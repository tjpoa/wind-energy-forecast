{
 "cells": [
  {
   "cell_type": "markdown",
   "id": "2520626a",
   "metadata": {},
   "source": [
    "## Imports"
   ]
  },
  {
   "cell_type": "code",
   "execution_count": 50,
   "id": "dc28c909",
   "metadata": {},
   "outputs": [],
   "source": [
    "import pandas as pd\n",
    "import numpy as np\n",
    "from pathlib import Path\n",
    "import os"
   ]
  },
  {
   "cell_type": "markdown",
   "id": "a9f5304c",
   "metadata": {},
   "source": [
    "# **Data Preparation**"
   ]
  },
  {
   "cell_type": "markdown",
   "id": "5aa56f56",
   "metadata": {},
   "source": [
    "## **1. Carregar e Processar Dados de Produção**"
   ]
  },
  {
   "cell_type": "code",
   "execution_count": 65,
   "id": "13c55c4e",
   "metadata": {},
   "outputs": [],
   "source": [
    "df_producao_raw = pd.read_csv(\"../data/raw/ReparticaoProducao.csv\", na_values=-990, sep=';', skiprows=2)\n",
    "df_producao_raw.columns = df_producao_raw.columns.str.strip()\n",
    "df_producao = df_producao_raw[['Data e Hora', 'Eólica']].copy()\n",
    "df_producao['Data e Hora'] = pd.to_datetime(df_producao['Data e Hora'])\n",
    "df_producao.set_index('Data e Hora', inplace=True)\n",
    "\n",
    "# Agregar para diário\n",
    "df_producao_diaria = df_producao.resample('D').sum().reset_index()\n",
    "df_producao_diaria.rename(columns={'Data e Hora': 'Data', 'Eólica': 'Eólica_Total_Dia'}, inplace=True) # Renomear para clareza"
   ]
  },
  {
   "cell_type": "markdown",
   "id": "c3237fa3",
   "metadata": {},
   "source": [
    "##  **2. Carregar e Processar Dados Meteorológicos** \n"
   ]
  },
  {
   "cell_type": "code",
   "execution_count": 68,
   "id": "46e19fb7",
   "metadata": {},
   "outputs": [],
   "source": [
    "# Função para carregar, tratar NaNs e preparar data\n",
    "def process_meteo_data(filepath, nan_strategy='median', circular_median_func=None):\n",
    "    print(f\"Processando: {filepath}\")\n",
    "    df = pd.read_csv(filepath, na_values=-990, sep=';', decimal='.')\n",
    "    df.rename(columns={'ANO': 'year', 'MES': 'month', 'DIA': 'day'}, inplace=True)\n",
    "    df['Data'] = pd.to_datetime(df[['year', 'month', 'day']])\n",
    "\n",
    "    station_cols = [col for col in df.columns if col.isdigit()]\n",
    "\n",
    "    if nan_strategy == 'median':\n",
    "        for col in station_cols:\n",
    "            if df[col].isnull().any():\n",
    "                median_val = df[col].median()\n",
    "                df.fillna({col: median_val}, inplace=True)\n",
    "    elif nan_strategy == 'mean':\n",
    "         for col in station_cols:\n",
    "            if df[col].isnull().any():\n",
    "                mean_val = df[col].mean()\n",
    "                df.fillna({col: mean_val}, inplace=True)\n",
    "    elif nan_strategy == 'interpolate_median': # Estratégia mista para Intensidade\n",
    "         missing_percent = (df.isnull().mean() * 100)\n",
    "         for col in station_cols:\n",
    "             if df[col].isnull().any():\n",
    "                 if missing_percent[col] > 30:\n",
    "                     df[col] = df[col].interpolate(method='linear', limit_direction='both')\n",
    "                     median_val = df[col].median() # Recalcular mediana pós-interpolação\n",
    "                     df.fillna({col: median_val}, inplace=True) # Preencher bordas\n",
    "                 else:\n",
    "                     median_val = df[col].median()\n",
    "                     df.fillna({col: median_val}, inplace=True)\n",
    "    elif nan_strategy == 'circular_median' and circular_median_func:\n",
    "         for col in station_cols:\n",
    "             if df[col].isnull().any():\n",
    "                # Calcular mediana circular para a coluna específica (ignorando NaNs no cálculo)\n",
    "                median_circ = circular_median_func(df[col].dropna().values)\n",
    "                df.fillna({col: median_circ}, inplace=True)\n",
    "    else:\n",
    "        print(f\"Estratégia NaN desconhecida ou função em falta para: {filepath}\")\n",
    "\n",
    "    print(f\"Valores ausentes restantes em {filepath.split('/')[-1]}: {df[station_cols].isnull().sum().sum()}\")\n",
    "    return df[['Data'] + station_cols]\n",
    "\n",
    "# Função para calcular a mediana circular\n",
    "def circular_median(values):\n",
    "    radians = np.deg2rad(values)\n",
    "    median_radians = np.arctan2(np.mean(np.sin(radians)), np.mean(np.cos(radians)))\n",
    "    return np.rad2deg(median_radians) % 360\n"
   ]
  },
  {
   "cell_type": "code",
   "execution_count": 69,
   "id": "3c21d939",
   "metadata": {},
   "outputs": [
    {
     "name": "stdout",
     "output_type": "stream",
     "text": [
      "Processando: ../data/raw/IntensidadeMediaVento10m.csv\n",
      "Valores ausentes restantes em IntensidadeMediaVento10m.csv: 0\n",
      "Processando: ../data/raw/TemperaturaMedia.csv\n",
      "Valores ausentes restantes em TemperaturaMedia.csv: 0\n",
      "Processando: ../data/raw/DirecaoMediaVento10m.csv\n",
      "Valores ausentes restantes em DirecaoMediaVento10m.csv: 0\n"
     ]
    }
   ],
   "source": [
    "# Processar cada ficheiro meteorológico\n",
    "df_intensidade = process_meteo_data(\"../data/raw/IntensidadeMediaVento10m.csv\", nan_strategy='interpolate_median')\n",
    "df_temperatura = process_meteo_data(\"../data/raw/TemperaturaMedia.csv\", nan_strategy='mean') # Usando média como no teu código original\n",
    "df_direcao = process_meteo_data(\"../data/raw/DirecaoMediaVento10m.csv\", nan_strategy='circular_median', circular_median_func=circular_median)"
   ]
  },
  {
   "cell_type": "markdown",
   "id": "c4c2667c",
   "metadata": {},
   "source": [
    "## **3. Calcular Médias Nacionais Diárias (Agregadas)**"
   ]
  },
  {
   "cell_type": "code",
   "execution_count": 70,
   "id": "c6f49a99",
   "metadata": {},
   "outputs": [],
   "source": [
    "station_cols_intensidade = [col for col in df_intensidade.columns if col.isdigit()]\n",
    "station_cols_temperatura = [col for col in df_temperatura.columns if col.isdigit()]\n",
    "station_cols_direcao = [col for col in df_direcao.columns if col.isdigit()]\n",
    "\n",
    "# Verificar se as colunas de estação são as mesmas (importante para vector avg)\n",
    "if not (station_cols_intensidade == station_cols_temperatura == station_cols_direcao):\n",
    "    print(\"AVISO: Colunas de estação não coincidem entre os ficheiros meteorológicos!\")\n",
    "    # Decidir como lidar com isso - usar interseção, ou parar? Por agora, usamos as da intensidade.\n",
    "    station_cols = station_cols_intensidade\n",
    "else:\n",
    "    station_cols = station_cols_intensidade\n",
    "\n",
    "# Média simples para Intensidade e Temperatura\n",
    "df_intensidade_agg = pd.DataFrame({\n",
    "    'Data': df_intensidade['Data'],\n",
    "    'Intensidade_Media': df_intensidade[station_cols].mean(axis=1)\n",
    "})\n",
    "df_temperatura_agg = pd.DataFrame({\n",
    "    'Data': df_temperatura['Data'],\n",
    "    'Temperatura_Media': df_temperatura[station_cols].mean(axis=1)\n",
    "})\n",
    "\n",
    "# Média vetorial para Direção\n",
    "dd_rad = np.deg2rad(df_direcao[station_cols])\n",
    "intensidade_estacoes = df_intensidade[station_cols] # Usar intensidade por estação como magnitude\n",
    "\n",
    "# Componentes U (zonal, Este-Oeste) e V (meridional, Norte-Sul)\n",
    "# Convenção meteorológica: U positivo = vento de Oeste, V positivo = vento de Sul\n",
    "# ângulo 0 = Norte, 90 = Este, 180 = Sul, 270 = Oeste\n",
    "# U = -Intensidade * sin(Direção_rad)\n",
    "# V = -Intensidade * cos(Direção_rad)\n",
    "u_component = -intensidade_estacoes * np.sin(dd_rad)\n",
    "v_component = -intensidade_estacoes * np.cos(dd_rad)\n",
    "\n",
    "u_medio = u_component.mean(axis=1)\n",
    "v_medio = v_component.mean(axis=1)\n",
    "\n",
    "# Calcular direção média nacional a partir das componentes médias U e V\n",
    "# Adicionar 180 graus ao arctan2 e usar módulo 360 para converter de volta para convenção meteorológica\n",
    "direcao_media_nacional = (np.rad2deg(np.arctan2(u_medio, v_medio)) + 180) % 360\n",
    "\n",
    "# Calcular componentes sin/cos da direção média nacional (para feature engineering)\n",
    "df_direcao_agg = pd.DataFrame({\n",
    "    'Data': df_direcao['Data'],\n",
    "    'Direcao_Media': direcao_media_nacional\n",
    "    # As componentes sin/cos serão calculadas mais tarde no DataFrame final\n",
    "})\n"
   ]
  },
  {
   "cell_type": "markdown",
   "id": "183d954d",
   "metadata": {},
   "source": [
    "## **4. Juntar Todos os Dados Diários**"
   ]
  },
  {
   "cell_type": "code",
   "execution_count": 71,
   "id": "a0371252",
   "metadata": {},
   "outputs": [
    {
     "name": "stdout",
     "output_type": "stream",
     "text": [
      "DataFrame combinado inicial: 4017 linhas.\n"
     ]
    }
   ],
   "source": [
    "df_final = df_producao_diaria.merge(df_intensidade_agg, on='Data', how='inner')\n",
    "df_final = df_final.merge(df_temperatura_agg, on='Data', how='inner')\n",
    "df_final = df_final.merge(df_direcao_agg, on='Data', how='inner')\n",
    "\n",
    "# Renomear coluna alvo para consistência com o notebook de modelação\n",
    "df_final.rename(columns={'Eólica_Total_Dia': 'Eólica'}, inplace=True)\n",
    "\n",
    "# Ordenar por data (importante!)\n",
    "df_final = df_final.sort_values('Data').reset_index(drop=True)\n",
    "\n",
    "print(f\"DataFrame combinado inicial: {df_final.shape[0]} linhas.\")"
   ]
  },
  {
   "cell_type": "markdown",
   "id": "ee40dc8d",
   "metadata": {},
   "source": [
    "## **5. Engenharia de Features Avançada**"
   ]
  },
  {
   "cell_type": "code",
   "execution_count": 73,
   "id": "d29219f7",
   "metadata": {},
   "outputs": [],
   "source": [
    "# 5.1 Features Baseadas na Data\n",
    "df_final['mes'] = df_final['Data'].dt.month\n",
    "df_final['dia_da_semana'] = df_final['Data'].dt.dayofweek\n",
    "df_final['dia_do_ano'] = df_final['Data'].dt.dayofyear\n",
    "df_final['semana_do_ano'] = df_final['Data'].dt.isocalendar().week.astype(int)\n",
    "df_final['trimestre'] = df_final['Data'].dt.quarter\n",
    "df_final['eh_fim_de_semana'] = df_final['dia_da_semana'].isin([5, 6]).astype(int)\n",
    "\n",
    "# 5.2 Codificação Cíclica (Vento e Data)\n",
    "df_final['vento_sin'] = np.sin(np.radians(df_final['Direcao_Media']))\n",
    "df_final['vento_cos'] = np.cos(np.radians(df_final['Direcao_Media']))\n",
    "df_final['dia_semana_sin'] = np.sin(2 * np.pi * df_final['dia_da_semana'] / 7)\n",
    "df_final['dia_semana_cos'] = np.cos(2 * np.pi * df_final['dia_da_semana'] / 7)\n",
    "df_final['mes_sin'] = np.sin(2 * np.pi * df_final['mes'] / 12)\n",
    "df_final['mes_cos'] = np.cos(2 * np.pi * df_final['mes'] / 12)\n",
    "df_final['dia_ano_sin'] = np.sin(2 * np.pi * df_final['dia_do_ano'] / 366)\n",
    "df_final['dia_ano_cos'] = np.cos(2 * np.pi * df_final['dia_do_ano'] / 366)\n",
    "\n",
    "# 5.3 Lag Features (Atrasos)\n",
    "lags_eolica = [1, 2, 3, 7, 14] # Adicionei lag 14\n",
    "lags_meteo = [1, 2, 3, 7]\n",
    "\n",
    "for lag in lags_eolica:\n",
    "    df_final[f'Eólica_lag{lag}'] = df_final['Eólica'].shift(lag)\n",
    "\n",
    "for lag in lags_meteo:\n",
    "    df_final[f'Intensidade_Media_lag{lag}'] = df_final['Intensidade_Media'].shift(lag)\n",
    "    df_final[f'Temperatura_Media_lag{lag}'] = df_final['Temperatura_Media'].shift(lag)\n",
    "    df_final[f'vento_sin_lag{lag}'] = df_final['vento_sin'].shift(lag)\n",
    "    df_final[f'vento_cos_lag{lag}'] = df_final['vento_cos'].shift(lag)\n",
    "\n",
    "# 5.4 Rolling Window Features (Janelas Deslizantes)\n",
    "window_sizes = [3, 7, 14]\n",
    "for window in window_sizes:\n",
    "    # Eólica\n",
    "    df_final[f'Eolica_roll_mean_{window}'] = df_final['Eólica'].shift(1).rolling(window=window, min_periods=1).mean()\n",
    "    df_final[f'Eolica_roll_std_{window}'] = df_final['Eólica'].shift(1).rolling(window=window, min_periods=1).std()\n",
    "    # Intensidade Média\n",
    "    df_final[f'Intensidade_Media_roll_mean_{window}'] = df_final['Intensidade_Media'].shift(1).rolling(window=window, min_periods=1).mean()\n",
    "    df_final[f'Intensidade_Media_roll_std_{window}'] = df_final['Intensidade_Media'].shift(1).rolling(window=window, min_periods=1).std()\n",
    "    # Temperatura Média (opcional)\n",
    "    df_final[f'Temperatura_Media_roll_mean_{window}'] = df_final['Temperatura_Media'].shift(1).rolling(window=window, min_periods=1).mean()\n",
    "    df_final[f'Temperatura_Media_roll_std_{window}'] = df_final['Temperatura_Media'].shift(1).rolling(window=window, min_periods=1).std()"
   ]
  },
  {
   "cell_type": "markdown",
   "id": "eb57c1d3",
   "metadata": {},
   "source": [
    "## **6. Tratar NaNs Finais e guardar o dataset**"
   ]
  },
  {
   "cell_type": "code",
   "execution_count": null,
   "id": "f5781a96",
   "metadata": {},
   "outputs": [
    {
     "name": "stdout",
     "output_type": "stream",
     "text": [
      "\n",
      "Verificação final de NaNs:\n",
      "Series([], dtype: int64)\n",
      "Nenhum NaN restante.\n",
      "\n",
      "DataFrame final para ML salvo em: ../data/processed/agg_data_ml.csv\n",
      "\n",
      "--- Primeiras 5 linhas do DataFrame final ---\n",
      "        Data    Eólica  Intensidade_Media  Temperatura_Media  Direcao_Media  \\\n",
      "0 2013-01-01   89358.2           1.988889           9.488889     327.262439   \n",
      "1 2013-01-02  118865.5           1.872222           8.683333      31.852420   \n",
      "2 2013-01-03  232257.7           2.972222           9.277778      79.706195   \n",
      "3 2013-01-04  149543.7           2.377778           8.761111      88.710336   \n",
      "4 2013-01-05   23830.8           1.605556           8.600000      83.465882   \n",
      "\n",
      "   mes  dia_da_semana  dia_do_ano  semana_do_ano  trimestre  ...  \\\n",
      "0    1              1           1              1          1  ...   \n",
      "1    1              2           2              1          1  ...   \n",
      "2    1              3           3              1          1  ...   \n",
      "3    1              4           4              1          1  ...   \n",
      "4    1              5           5              1          1  ...   \n",
      "\n",
      "   Eolica_roll_mean_14  Eolica_roll_std_14  Intensidade_Media_roll_mean_14  \\\n",
      "0         89358.200000        20864.811925                        1.988889   \n",
      "1         89358.200000        20864.811925                        1.988889   \n",
      "2        104111.850000        20864.811925                        1.930556   \n",
      "3        146827.133333        75441.742285                        2.277778   \n",
      "4        147506.275000        61612.898430                        2.302778   \n",
      "\n",
      "   Intensidade_Media_roll_std_14  Temperatura_Media_roll_mean_3  \\\n",
      "0                       0.082496                       9.488889   \n",
      "1                       0.082496                       9.488889   \n",
      "2                       0.082496                       9.086111   \n",
      "3                       0.604229                       9.150000   \n",
      "4                       0.495878                       8.907407   \n",
      "\n",
      "   Temperatura_Media_roll_std_3  Temperatura_Media_roll_mean_7  \\\n",
      "0                      0.569614                       9.488889   \n",
      "1                      0.569614                       9.488889   \n",
      "2                      0.569614                       9.086111   \n",
      "3                      0.417702                       9.150000   \n",
      "4                      0.323099                       9.052778   \n",
      "\n",
      "   Temperatura_Media_roll_std_7  Temperatura_Media_roll_mean_14  \\\n",
      "0                      0.569614                        9.488889   \n",
      "1                      0.569614                        9.488889   \n",
      "2                      0.569614                        9.086111   \n",
      "3                      0.417702                        9.150000   \n",
      "4                      0.392588                        9.052778   \n",
      "\n",
      "   Temperatura_Media_roll_std_14  \n",
      "0                       0.569614  \n",
      "1                       0.569614  \n",
      "2                       0.569614  \n",
      "3                       0.417702  \n",
      "4                       0.392588  \n",
      "\n",
      "[5 rows x 58 columns]\n",
      "\n",
      "--- Últimas 5 linhas do DataFrame final ---\n",
      "           Data    Eólica  Intensidade_Media  Temperatura_Media  \\\n",
      "4012 2023-12-27  122691.3           2.544444           7.805602   \n",
      "4013 2023-12-28  164045.6           2.461111          10.100046   \n",
      "4014 2023-12-29   60597.4           1.761111          10.688935   \n",
      "4015 2023-12-30  139741.1           1.988889          10.855602   \n",
      "4016 2023-12-31  156613.8           2.272222          10.750046   \n",
      "\n",
      "      Direcao_Media  mes  dia_da_semana  dia_do_ano  semana_do_ano  trimestre  \\\n",
      "4012     118.144080   12              2         361             52          4   \n",
      "4013     137.103479   12              3         362             52          4   \n",
      "4014     112.373396   12              4         363             52          4   \n",
      "4015     164.014105   12              5         364             52          4   \n",
      "4016     287.667244   12              6         365             52          4   \n",
      "\n",
      "      ...  Eolica_roll_mean_14  Eolica_roll_std_14  \\\n",
      "4012  ...        138664.685714        99510.589763   \n",
      "4013  ...        128074.742857        91951.577185   \n",
      "4014  ...        128165.178571        91988.950424   \n",
      "4015  ...        112903.521429        83189.426583   \n",
      "4016  ...        109115.892857        80435.038229   \n",
      "\n",
      "      Intensidade_Media_roll_mean_14  Intensidade_Media_roll_std_14  \\\n",
      "4012                        2.449603                       0.557839   \n",
      "4013                        2.384127                       0.478075   \n",
      "4014                        2.390873                       0.478476   \n",
      "4015                        2.285714                       0.439252   \n",
      "4016                        2.230556                       0.423153   \n",
      "\n",
      "      Temperatura_Media_roll_mean_3  Temperatura_Media_roll_std_3  \\\n",
      "4012                       8.014861                      0.105165   \n",
      "4013                       7.920417                      0.129735   \n",
      "4014                       8.600046                      1.299798   \n",
      "4015                       9.531528                      1.523421   \n",
      "4016                      10.548194                      0.396953   \n",
      "\n",
      "      Temperatura_Media_roll_mean_7  Temperatura_Media_roll_std_7  \\\n",
      "4012                       9.132586                      1.121559   \n",
      "4013                       8.766713                      1.068344   \n",
      "4014                       8.796872                      1.107563   \n",
      "4015                       8.834173                      1.174048   \n",
      "4016                       9.070681                      1.404225   \n",
      "\n",
      "      Temperatura_Media_roll_mean_14  Temperatura_Media_roll_std_14  \n",
      "4012                        9.211171                       1.315175  \n",
      "4013                        8.937348                       1.160798  \n",
      "4014                        8.974649                       1.190961  \n",
      "4015                        8.984570                       1.205582  \n",
      "4016                        9.058380                       1.289524  \n",
      "\n",
      "[5 rows x 58 columns]\n",
      "\n",
      "--- Colunas Finais ---\n",
      "['Data', 'Eólica', 'Intensidade_Media', 'Temperatura_Media', 'Direcao_Media', 'mes', 'dia_da_semana', 'dia_do_ano', 'semana_do_ano', 'trimestre', 'eh_fim_de_semana', 'vento_sin', 'vento_cos', 'dia_semana_sin', 'dia_semana_cos', 'mes_sin', 'mes_cos', 'dia_ano_sin', 'dia_ano_cos', 'Eólica_lag1', 'Eólica_lag2', 'Eólica_lag3', 'Eólica_lag7', 'Eólica_lag14', 'Intensidade_Media_lag1', 'Temperatura_Media_lag1', 'vento_sin_lag1', 'vento_cos_lag1', 'Intensidade_Media_lag2', 'Temperatura_Media_lag2', 'vento_sin_lag2', 'vento_cos_lag2', 'Intensidade_Media_lag3', 'Temperatura_Media_lag3', 'vento_sin_lag3', 'vento_cos_lag3', 'Intensidade_Media_lag7', 'Temperatura_Media_lag7', 'vento_sin_lag7', 'vento_cos_lag7', 'Eolica_roll_mean_3', 'Eolica_roll_std_3', 'Intensidade_Media_roll_mean_3', 'Intensidade_Media_roll_std_3', 'Eolica_roll_mean_7', 'Eolica_roll_std_7', 'Intensidade_Media_roll_mean_7', 'Intensidade_Media_roll_std_7', 'Eolica_roll_mean_14', 'Eolica_roll_std_14', 'Intensidade_Media_roll_mean_14', 'Intensidade_Media_roll_std_14', 'Temperatura_Media_roll_mean_3', 'Temperatura_Media_roll_std_3', 'Temperatura_Media_roll_mean_7', 'Temperatura_Media_roll_std_7', 'Temperatura_Media_roll_mean_14', 'Temperatura_Media_roll_std_14']\n",
      "\n",
      "Dimensões finais do DataFrame: (4017, 58)\n"
     ]
    },
    {
     "name": "stderr",
     "output_type": "stream",
     "text": [
      "C:\\Users\\Tiago\\AppData\\Local\\Temp\\ipykernel_13116\\1584817216.py:3: FutureWarning: DataFrame.fillna with 'method' is deprecated and will raise in a future version. Use obj.ffill() or obj.bfill() instead.\n",
      "  df_final[cols_com_lags_roll] = df_final[cols_com_lags_roll].fillna(method='bfill')\n"
     ]
    }
   ],
   "source": [
    "# Preencher NaNs no início usando backfill\n",
    "cols_com_lags_roll = [col for col in df_final.columns if '_lag' in col or '_roll_' in col]\n",
    "df_final[cols_com_lags_roll] = df_final[cols_com_lags_roll].fillna(method='bfill')\n",
    "\n",
    "# Verificar se ainda existem NaNs\n",
    "print(\"\\nVerificação final de NaNs:\")\n",
    "nans_finais = df_final.isnull().sum()\n",
    "print(nans_finais[nans_finais > 0]) # Mostra apenas colunas com NaNs\n",
    "if nans_finais.sum() == 0:\n",
    "    print(\"Nenhum NaN restante.\")\n",
    "else:\n",
    "    print(\"ATENÇÃO: Ainda existem NaNs. Verificar o preenchimento.\")\n",
    "    # Poderias precisar de um .fillna(0) ou outra estratégia se o bfill não for suficiente\n",
    "    # df_final.fillna(0, inplace=True) # Exemplo: preencher restantes com 0\n",
    "\n",
    "# Opcional: Remover colunas que não serão usadas como features\n",
    "cols_to_drop_final = ['Direcao_Media', 'mes', 'dia_da_semana', 'dia_do_ano'] # Manter Data e Eólica\n",
    "# df_final = df_final.drop(columns=cols_to_drop_final)\n",
    "\n",
    "# Garantir que o diretório existe\n",
    "os.makedirs('../data/processed', exist_ok=True)\n",
    "\n",
    "# Salvar o dataset final pronto para ML\n",
    "output_path = '../data/processed/agg_data_ml.csv'\n",
    "df_final.to_csv(output_path, index=False)\n",
    "print(f\"\\nDataFrame final para ML salvo em: {output_path}\")\n",
    "\n",
    "# --- Mostrar Resultado Final ---\n",
    "print(\"\\n--- Primeiras 5 linhas do DataFrame final ---\")\n",
    "print(df_final.head())\n",
    "print(\"\\n--- Últimas 5 linhas do DataFrame final ---\")\n",
    "print(df_final.tail())\n",
    "print(\"\\n--- Colunas Finais ---\")\n",
    "print(df_final.columns.tolist())\n",
    "print(f\"\\nDimensões finais do DataFrame: {df_final.shape}\")"
   ]
  },
  {
   "cell_type": "markdown",
   "id": "beadc224",
   "metadata": {},
   "source": [
    "# 1. Conversão de Data"
   ]
  },
  {
   "cell_type": "markdown",
   "id": "4f60695b",
   "metadata": {},
   "source": [
    "# **Tratar Valores Ausentes**"
   ]
  },
  {
   "cell_type": "markdown",
   "id": "b14f1a79",
   "metadata": {},
   "source": [
    "## Reparticao da Producao de Energia"
   ]
  },
  {
   "cell_type": "code",
   "execution_count": 51,
   "id": "3bee233d",
   "metadata": {},
   "outputs": [
    {
     "name": "stdout",
     "output_type": "stream",
     "text": [
      "\n",
      "Resumo das colunas com valores ausentes:\n",
      "                               Total Ausentes  Percentual (%)\n",
      "Data e Hora                                 0             0.0\n",
      "Hídrica                                     0             0.0\n",
      "Eólica                                      0             0.0\n",
      "Solar                                       0             0.0\n",
      "Biomassa                                    0             0.0\n",
      "Ondas                                       0             0.0\n",
      "Gás Natural - Ciclo Combinado               0             0.0\n",
      "Gás natural - Cogeração                     0             0.0\n",
      "Carvão                                      0             0.0\n",
      "Outra Térmica                               0             0.0\n",
      "Importação                                  0             0.0\n",
      "Exportação                                  0             0.0\n",
      "Bombagem                                    0             0.0\n",
      "Injeção de Baterias                         0             0.0\n",
      "Consumo Baterias                            0             0.0\n",
      "Consumo                                     0             0.0\n"
     ]
    }
   ],
   "source": [
    "df_producao = pd.read_csv(\"../data/raw/ReparticaoProducao.csv\", na_values=-990, sep=';',skiprows=2)\n",
    "\n",
    "# Resumo dos valores ausentes\n",
    "missing_data_producao = pd.DataFrame({\n",
    "    'Total Ausentes': df_producao.isnull().sum(),\n",
    "    'Percentual (%)': (df_producao.isnull().mean() * 100).round(2)\n",
    "})\n",
    "\n",
    "print(\"\\nResumo das colunas com valores ausentes:\")\n",
    "print(missing_data_producao)"
   ]
  },
  {
   "cell_type": "markdown",
   "id": "f9ffbfcb",
   "metadata": {},
   "source": [
    "## Intensidade Media do Vento a 10m"
   ]
  },
  {
   "cell_type": "code",
   "execution_count": 52,
   "id": "29d991f8",
   "metadata": {},
   "outputs": [
    {
     "name": "stdout",
     "output_type": "stream",
     "text": [
      "\n",
      "Resumo das colunas com valores ausentes:\n",
      "         Total Ausentes  Percentual (%)\n",
      "ANO                   0            0.00\n",
      "MES                   0            0.00\n",
      "DIA                   0            0.00\n",
      "1200551            1981           49.32\n",
      "1210622            1525           37.96\n",
      "1200567              14            0.35\n",
      "1200575              57            1.42\n",
      "1200545             283            7.05\n",
      "1210702             663           16.50\n",
      "1200560              83            2.07\n",
      "1210683             190            4.73\n",
      "1200548              57            1.42\n",
      "1200570               1            0.02\n",
      "1210718             191            4.75\n",
      "1210734              52            1.29\n",
      "1200571             226            5.63\n",
      "1200579              32            0.80\n",
      "1210770             192            4.78\n",
      "1200558              28            0.70\n",
      "1200562             471           11.73\n",
      "1200554             352            8.76\n"
     ]
    }
   ],
   "source": [
    "# Importando o arquivo CSV, tratando -990 como ausente\n",
    "df_intesidadeVento10 = pd.read_csv(\"../data/raw/IntensidadeMediaVento10m.csv\", na_values=-990, sep=';', decimal='.')\n",
    "\n",
    "# Resumo dos valores ausentes\n",
    "missing_data = pd.DataFrame({\n",
    "    'Total Ausentes': df_intesidadeVento10.isnull().sum(),\n",
    "    'Percentual (%)': (df_intesidadeVento10.isnull().mean() * 100).round(2)\n",
    "})\n",
    "\n",
    "print(\"\\nResumo das colunas com valores ausentes:\")\n",
    "print(missing_data)\n"
   ]
  },
  {
   "cell_type": "markdown",
   "id": "84028826",
   "metadata": {},
   "source": [
    "## Direcao Media do Vento a 10m"
   ]
  },
  {
   "cell_type": "code",
   "execution_count": 53,
   "id": "89fb7339",
   "metadata": {},
   "outputs": [
    {
     "name": "stdout",
     "output_type": "stream",
     "text": [
      "\n",
      "Resumo das colunas com valores ausentes:\n",
      "         Total Ausentes  Percentual (%)\n",
      "ANO                   0            0.00\n",
      "MES                   0            0.00\n",
      "DIA                   0            0.00\n",
      "1200551            2540           63.23\n",
      "1210622            1090           27.13\n",
      "1200567              36            0.90\n",
      "1200575              47            1.17\n",
      "1200545             617           15.36\n",
      "1210702             665           16.55\n",
      "1200560              85            2.12\n",
      "1210683             191            4.75\n",
      "1200548              63            1.57\n",
      "1200570               1            0.02\n",
      "1210718             207            5.15\n",
      "1210734              62            1.54\n",
      "1200571            1052           26.19\n",
      "1200579              36            0.90\n",
      "1210770             192            4.78\n",
      "1200558              36            0.90\n",
      "1200562             287            7.14\n",
      "1200554            1026           25.54\n"
     ]
    }
   ],
   "source": [
    "df_direcaoVento10 = pd.read_csv(\"../data/raw/DirecaoMediaVento10m.csv\", na_values=-990, sep=';', decimal='.')\n",
    "\n",
    "# Resumo dos valores ausentes\n",
    "missing_data = pd.DataFrame({\n",
    "    'Total Ausentes': df_direcaoVento10.isnull().sum(),\n",
    "    'Percentual (%)': (df_direcaoVento10.isnull().mean() * 100).round(2)\n",
    "})\n",
    "\n",
    "print(\"\\nResumo das colunas com valores ausentes:\")\n",
    "print(missing_data)"
   ]
  },
  {
   "cell_type": "markdown",
   "id": "543235e3",
   "metadata": {},
   "source": [
    "## Temperatura Media"
   ]
  },
  {
   "cell_type": "code",
   "execution_count": 54,
   "id": "6924b4a4",
   "metadata": {},
   "outputs": [
    {
     "name": "stdout",
     "output_type": "stream",
     "text": [
      "\n",
      "Resumo das colunas com valores ausentes:\n",
      "         Total Ausentes  Percentual (%)\n",
      "ANO                   0            0.00\n",
      "MES                   0            0.00\n",
      "DIA                   0            0.00\n",
      "1200551             288            7.17\n",
      "1210622             240            5.97\n",
      "1200567              14            0.35\n",
      "1200575              49            1.22\n",
      "1200545             512           12.75\n",
      "1210702              98            2.44\n",
      "1200560              32            0.80\n",
      "1210683             198            4.93\n",
      "1200548              94            2.34\n",
      "1200570               5            0.12\n",
      "1210718             343            8.54\n",
      "1210734              48            1.19\n",
      "1200571             332            8.26\n",
      "1200579              51            1.27\n",
      "1210770             297            7.39\n",
      "1200558              30            0.75\n",
      "1200562             594           14.79\n",
      "1200554              31            0.77\n"
     ]
    }
   ],
   "source": [
    "df_temperaturamedia = pd.read_csv(\"../data/raw/TemperaturaMedia.csv\", na_values=-990, sep=';', decimal='.')\n",
    "\n",
    "# Resumo dos valores ausentes\n",
    "missing_data = pd.DataFrame({\n",
    "    'Total Ausentes': df_temperaturamedia.isnull().sum(),\n",
    "    'Percentual (%)': (df_temperaturamedia.isnull().mean() * 100).round(2)\n",
    "})\n",
    "\n",
    "print(\"\\nResumo das colunas com valores ausentes:\")\n",
    "print(missing_data)"
   ]
  },
  {
   "cell_type": "markdown",
   "id": "e44ef215",
   "metadata": {},
   "source": [
    "## **Estrategias para lidar com os valores ausentes**"
   ]
  },
  {
   "cell_type": "markdown",
   "id": "ab1c10d4",
   "metadata": {},
   "source": [
    "### Para a Intensidade media do vento optamos por quando a percentagem de valores ausentes for superior a 30% em cada estação, usamos interpolação linear; nas restantes utilizámos a mediana"
   ]
  },
  {
   "cell_type": "code",
   "execution_count": 55,
   "id": "64d26c5a",
   "metadata": {},
   "outputs": [
    {
     "name": "stdout",
     "output_type": "stream",
     "text": [
      "\n",
      "Resumo dos valores ausentes após tratamento:\n",
      "ANO        0\n",
      "MES        0\n",
      "DIA        0\n",
      "1200551    0\n",
      "1210622    0\n",
      "1200567    0\n",
      "1200575    0\n",
      "1200545    0\n",
      "1210702    0\n",
      "1200560    0\n",
      "1210683    0\n",
      "1200548    0\n",
      "1200570    0\n",
      "1210718    0\n",
      "1210734    0\n",
      "1200571    0\n",
      "1200579    0\n",
      "1210770    0\n",
      "1200558    0\n",
      "1200562    0\n",
      "1200554    0\n",
      "dtype: int64\n"
     ]
    }
   ],
   "source": [
    "missing_percent = (df_intesidadeVento10.isnull().mean() * 100)\n",
    "\n",
    "\n",
    "df_intesidadeVento10_treated = df_intesidadeVento10.copy()\n",
    "\n",
    "for col in df_intesidadeVento10.columns:\n",
    "    if missing_percent[col] > 30:\n",
    "        # Se mais de 30% de ausentes → interpolar\n",
    "        df_intesidadeVento10_treated[col] = df_intesidadeVento10_treated[col].interpolate(method='linear', limit_direction='both')\n",
    "        # Preencher o que ainda sobrou (bordas) com a mediana\n",
    "        mediana = df_intesidadeVento10_treated[col].median()\n",
    "        df_intesidadeVento10_treated[col] = df_intesidadeVento10_treated[col].fillna(mediana)\n",
    "    elif missing_percent[col] < 30:\n",
    "        # Se menos de 5% de ausentes → preencher com mediana\n",
    "        mediana = df_intesidadeVento10_treated[col].median()\n",
    "        df_intesidadeVento10_treated[col] = df_intesidadeVento10_treated[col].fillna(mediana)\n",
    "    else:\n",
    "        pass\n",
    "\n",
    "# Resultado final\n",
    "print(\"\\nResumo dos valores ausentes após tratamento:\")\n",
    "print(df_intesidadeVento10_treated.isnull().sum())"
   ]
  },
  {
   "cell_type": "code",
   "execution_count": 56,
   "id": "2039c927",
   "metadata": {},
   "outputs": [],
   "source": [
    "os.makedirs('../data/processed', exist_ok=True)\n",
    "\n",
    "# Salvando o dataset tratado em CSV\n",
    "df_intesidadeVento10_treated.to_csv('../data/processed/IntensidadeMediaVento10m_processed.csv', index=False)\n"
   ]
  },
  {
   "cell_type": "markdown",
   "id": "72d238fc",
   "metadata": {},
   "source": [
    "### Para a temperatura media subtituimos os valores usentes pela media."
   ]
  },
  {
   "cell_type": "code",
   "execution_count": 57,
   "id": "f8584949",
   "metadata": {},
   "outputs": [],
   "source": [
    "df_ttmed = df_temperaturamedia.copy()"
   ]
  },
  {
   "cell_type": "code",
   "execution_count": 58,
   "id": "db1a1e61",
   "metadata": {},
   "outputs": [
    {
     "data": {
      "text/plain": [
       "ANO        0\n",
       "MES        0\n",
       "DIA        0\n",
       "1200551    0\n",
       "1210622    0\n",
       "1200567    0\n",
       "1200575    0\n",
       "1200545    0\n",
       "1210702    0\n",
       "1200560    0\n",
       "1210683    0\n",
       "1200548    0\n",
       "1200570    0\n",
       "1210718    0\n",
       "1210734    0\n",
       "1200571    0\n",
       "1200579    0\n",
       "1210770    0\n",
       "1200558    0\n",
       "1200562    0\n",
       "1200554    0\n",
       "dtype: int64"
      ]
     },
     "execution_count": 58,
     "metadata": {},
     "output_type": "execute_result"
    }
   ],
   "source": [
    "media_global = df_ttmed.select_dtypes(include=['float64', 'int64']).stack().mean()\n",
    "\n",
    "df_ttmed.fillna(media_global, inplace=True)\n",
    "\n",
    "df_ttmed.to_csv('../data/processed/TemperaturaMedia_processed.csv', index=False)\n",
    "\n",
    "df_ttmed.isnull().sum()\n"
   ]
  },
  {
   "cell_type": "markdown",
   "id": "e3b34db4",
   "metadata": {},
   "source": [
    "### Para a direcao media do vento utilizamos a mediana circular\n"
   ]
  },
  {
   "cell_type": "code",
   "execution_count": 59,
   "id": "c803ff79",
   "metadata": {},
   "outputs": [],
   "source": [
    "# Função para calcular a mediana circular (em graus)\n",
    "def circular_median(values):\n",
    "    # Converte os valores para radianos\n",
    "    radians = np.deg2rad(values)\n",
    "\n",
    "    # Calcula o seno e cosseno da média\n",
    "    median_radians = np.arctan2(np.mean(np.sin(radians)), np.mean(np.cos(radians)))\n",
    "    \n",
    "    # Converte de volta para graus\n",
    "    return np.rad2deg(median_radians) % 360"
   ]
  },
  {
   "cell_type": "code",
   "execution_count": 60,
   "id": "8a1df9c1",
   "metadata": {},
   "outputs": [
    {
     "name": "stdout",
     "output_type": "stream",
     "text": [
      "\n",
      "Resumo dos valores ausentes após o tratamento na folha DD_MED:\n",
      "ANO        0\n",
      "MES        0\n",
      "DIA        0\n",
      "1200551    0\n",
      "1210622    0\n",
      "1200567    0\n",
      "1200575    0\n",
      "1200545    0\n",
      "1210702    0\n",
      "1200560    0\n",
      "1210683    0\n",
      "1200548    0\n",
      "1200570    0\n",
      "1210718    0\n",
      "1210734    0\n",
      "1200571    0\n",
      "1200579    0\n",
      "1210770    0\n",
      "1200558    0\n",
      "1200562    0\n",
      "1200554    0\n",
      "dtype: int64\n"
     ]
    }
   ],
   "source": [
    "df_ddmed = df_direcaoVento10.copy()\n",
    "\n",
    "mediana_circular = circular_median(df_ddmed.select_dtypes(include=['float64', 'int64']).stack())\n",
    "\n",
    "df_ddmed.fillna(mediana_circular, inplace=True)\n",
    "\n",
    "print(\"\\nResumo dos valores ausentes após o tratamento na folha DD_MED:\")\n",
    "print(df_ddmed.isnull().sum())\n",
    "\n",
    "df_ddmed.to_csv('../data/processed/DirecaoMediaVento10m_processed.csv', index=False)\n"
   ]
  },
  {
   "cell_type": "code",
   "execution_count": null,
   "id": "af5ab37e",
   "metadata": {},
   "outputs": [],
   "source": []
  },
  {
   "cell_type": "markdown",
   "id": "baabab47",
   "metadata": {},
   "source": [
    "## Agregação dos Dados"
   ]
  },
  {
   "cell_type": "markdown",
   "id": "1f83babf",
   "metadata": {},
   "source": [
    "### Começar por extrair só o que queremos do Dataset da Repartição da Produção"
   ]
  },
  {
   "cell_type": "code",
   "execution_count": 61,
   "id": "4fc36f47",
   "metadata": {},
   "outputs": [],
   "source": [
    "df_producao_processed = df_producao.copy()\n",
    "\n",
    "df_producao_processed.columns = df_producao_processed.columns.str.strip()\n",
    "df_producao_processed = df_producao_processed[['Data e Hora', 'Eólica']]\n",
    "\n",
    "# Ensure 'Data e Hora' is in datetime format\n",
    "df_producao_processed['Data e Hora'] = pd.to_datetime(df_producao_processed['Data e Hora'])\n",
    "\n",
    "df_producao_processed.set_index('Data e Hora', inplace=True)\n",
    "df_diario = df_producao_processed.resample('D').sum().reset_index()\n",
    "df_diario.rename(columns={'Data e Hora': 'Data'}, inplace=True)"
   ]
  },
  {
   "cell_type": "markdown",
   "id": "005ef6ba",
   "metadata": {},
   "source": [
    "### Para os datasets do vento temos que mudar o formato da data"
   ]
  },
  {
   "cell_type": "code",
   "execution_count": 62,
   "id": "df4d331c",
   "metadata": {},
   "outputs": [],
   "source": [
    "df_ddmed_processed = df_ddmed.copy()\n",
    "df_ddmed_processed = df_ddmed_processed.rename(columns={'ANO': 'year', 'MES': 'month', 'DIA': 'day'})\n",
    "df_intesidadeVento10_treated = df_intesidadeVento10_treated.rename(columns={'ANO': 'year', 'MES': 'month', 'DIA': 'day'})\n",
    "df_ddmed_processed['Data'] = pd.to_datetime(df_ddmed_processed[['year', 'month', 'day']])\n",
    "df_intesidadeVento10_treated['Data'] = pd.to_datetime(df_intesidadeVento10_treated[['year', 'month', 'day']])\n",
    "\n",
    "# Estações são colunas com nomes numéricos\n",
    "estacoes = [col for col in df_ddmed_processed.columns if col.isdigit()]\n",
    "\n",
    "dd_rad = np.deg2rad(df_ddmed_processed[estacoes])\n",
    "x = df_intesidadeVento10_treated[estacoes] * np.cos(dd_rad)\n",
    "y = df_intesidadeVento10_treated[estacoes] * np.sin(dd_rad)\n",
    "\n",
    "x_medio = x.mean(axis=1)\n",
    "y_medio = y.mean(axis=1)\n",
    "\n",
    "intensidade_media = np.sqrt(x_medio**2 + y_medio**2)\n",
    "direcao_media = (np.rad2deg(np.arctan2(y_medio, x_medio))) % 360\n",
    "\n",
    "df_nacional = pd.DataFrame({\n",
    "    'Data': df_ddmed_processed['Data'],\n",
    "    'Intensidade_Media': intensidade_media,\n",
    "    'Direcao_Media': direcao_media\n",
    "})"
   ]
  },
  {
   "cell_type": "markdown",
   "id": "9f83569e",
   "metadata": {},
   "source": [
    "### para a temperatura também"
   ]
  },
  {
   "cell_type": "code",
   "execution_count": 63,
   "id": "7db408bb",
   "metadata": {},
   "outputs": [],
   "source": [
    "df_ttmed_processed = df_ttmed.copy()\n",
    "\n",
    "# Ensure the renaming persists by using inplace=True\n",
    "df_ttmed_processed.rename(columns={'ANO': 'year', 'MES': 'month', 'DIA': 'day'}, inplace=True)\n",
    "df_ttmed_processed['Data'] = pd.to_datetime(df_ttmed_processed[['year', 'month', 'day']])\n",
    "\n",
    "estacoes = [col for col in df_ttmed_processed.columns if col.isdigit()]\n",
    "temp_media = df_ttmed_processed[estacoes].mean(axis=1)\n",
    "\n",
    "df_temp = pd.DataFrame({\n",
    "    'Data': df_ttmed_processed['Data'],\n",
    "    'Temperatura_Media': temp_media\n",
    "})"
   ]
  },
  {
   "cell_type": "code",
   "execution_count": 64,
   "id": "470c68a4",
   "metadata": {},
   "outputs": [],
   "source": [
    "# Juntar os datasets usando a coluna 'Data' como chave\n",
    "df_merged = df_nacional.merge(df_temp, on='Data', how='inner')\n",
    "df_merged = df_merged.merge(df_diario, on='Data', how='inner')\n",
    "\n",
    "df_dados = df_merged.copy()\n",
    "\n",
    "df_merged.to_csv('../data/processed/agg_data.csv', index=False)"
   ]
  },
  {
   "cell_type": "markdown",
   "id": "9de9144d",
   "metadata": {},
   "source": [
    "### Dataset para ML"
   ]
  },
  {
   "cell_type": "code",
   "execution_count": null,
   "id": "383c0ed5",
   "metadata": {},
   "outputs": [],
   "source": [
    "# --- Carregar os dataframes processados (ou usar os já em memória se preferires) ---\n",
    "# Assumindo que os passos anteriores (tratamento de ausentes, agregação, merge)\n",
    "# resultaram num DataFrame chamado 'df_merged' com as colunas:\n",
    "# 'Data', 'Intensidade_Media', 'Direcao_Media', 'Temperatura_Media', 'Eólica'\n",
    "\n",
    "# Certificar que está ordenado por data (CRUCIAL para lags e rolling features)\n",
    "df_merged = df_merged.sort_values('Data').reset_index(drop=True)\n",
    "\n",
    "# --- Criar Features Adicionais para ML ---\n",
    "\n",
    "print(\"A criar features adicionais para ML...\")\n",
    "\n",
    "# 1. Features Baseadas na Data\n",
    "df_merged['mes'] = df_merged['Data'].dt.month\n",
    "df_merged['dia_da_semana'] = df_merged['Data'].dt.dayofweek\n",
    "df_merged['dia_do_ano'] = df_merged['Data'].dt.dayofyear\n",
    "df_merged['semana_do_ano'] = df_merged['Data'].dt.isocalendar().week.astype(int)\n",
    "df_merged['trimestre'] = df_merged['Data'].dt.quarter\n",
    "df_merged['eh_fim_de_semana'] = df_merged['dia_da_semana'].isin([5, 6]).astype(int)\n",
    "\n",
    "# 2. Codificação Cíclica (Vento e Data)\n",
    "# Vento (calcular a partir da Direcao_Media diária agregada)\n",
    "df_merged['vento_sin'] = np.sin(np.radians(df_merged['Direcao_Media']))\n",
    "df_merged['vento_cos'] = np.cos(np.radians(df_merged['Direcao_Media']))\n",
    "\n",
    "# Data (usando as features criadas acima)\n",
    "df_merged['dia_semana_sin'] = np.sin(2 * np.pi * df_merged['dia_da_semana'] / 7)\n",
    "df_merged['dia_semana_cos'] = np.cos(2 * np.pi * df_merged['dia_da_semana'] / 7)\n",
    "df_merged['mes_sin'] = np.sin(2 * np.pi * df_merged['mes'] / 12)\n",
    "df_merged['mes_cos'] = np.cos(2 * np.pi * df_merged['mes'] / 12)\n",
    "df_merged['dia_ano_sin'] = np.sin(2 * np.pi * df_merged['dia_do_ano'] / 366) # Usar 366 para anos bissextos\n",
    "df_merged['dia_ano_cos'] = np.cos(2 * np.pi * df_merged['dia_do_ano'] / 366)\n",
    "\n",
    "# 3. Lag Features (Atrasos)\n",
    "lags_eolica = [1, 2, 3, 7] # Inclui lag 1 que já tinhas, e adiciona mais\n",
    "for lag in lags_eolica:\n",
    "    df_merged[f'Eólica_lag{lag}'] = df_merged['Eólica'].shift(lag)\n",
    "\n",
    "lags_meteo = [1, 2, 3, 7] # lag 1 já tinhas para Intensidade e Temperatura\n",
    "for lag in lags_meteo:\n",
    "    df_merged[f'Intensidade_Media_lag{lag}'] = df_merged['Intensidade_Media'].shift(lag)\n",
    "    df_merged[f'Temperatura_Media_lag{lag}'] = df_merged['Temperatura_Media'].shift(lag)\n",
    "    # Lags para componentes do vento\n",
    "    df_merged[f'vento_sin_lag{lag}'] = df_merged['vento_sin'].shift(lag)\n",
    "    df_merged[f'vento_cos_lag{lag}'] = df_merged['vento_cos'].shift(lag)\n",
    "\n",
    "# 4. Rolling Window Features (Janelas Deslizantes)\n",
    "# Usar shift(1) para garantir que a janela calcula estatísticas sobre dias *anteriores*\n",
    "window_sizes = [3, 7, 14]\n",
    "for window in window_sizes:\n",
    "    # Eólica\n",
    "    df_merged[f'Eolica_roll_mean_{window}'] = df_merged['Eólica'].shift(1).rolling(window=window, min_periods=1).mean()\n",
    "    df_merged[f'Eolica_roll_std_{window}'] = df_merged['Eólica'].shift(1).rolling(window=window, min_periods=1).std()\n",
    "    # Intensidade Média\n",
    "    df_merged[f'Intensidade_Media_roll_mean_{window}'] = df_merged['Intensidade_Media'].shift(1).rolling(window=window, min_periods=1).mean()\n",
    "    df_merged[f'Intensidade_Media_roll_std_{window}'] = df_merged['Intensidade_Media'].shift(1).rolling(window=window, min_periods=1).std()\n",
    "    # Temperatura Média (opcional, pode não ser tão útil)\n",
    "    # df_merged[f'Temperatura_Media_roll_mean_{window}'] = df_merged['Temperatura_Media'].shift(1).rolling(window=window, min_periods=1).mean()\n",
    "\n",
    "# 5. Tratar Valores NaN criados pelos Shifts e Rolling Windows\n",
    "# Preencher NaNs no início usando backfill (usa o próximo valor válido para preencher)\n",
    "print(\"Preenchendo valores NaN iniciais com backfill...\")\n",
    "cols_to_fill = [col for col in df_merged.columns if '_lag' in col or '_roll_' in col]\n",
    "df_merged[cols_to_fill] = df_merged[cols_to_fill].fillna(method='bfill')\n",
    "\n",
    "# Verificar se ainda existem NaNs (não deve haver se o bfill funcionou)\n",
    "print(\"\\nVerificação de NaNs após preenchimento:\")\n",
    "print(df_merged.isnull().sum())\n",
    "\n",
    "# Opcional: Remover colunas originais que foram codificadas ou não são mais necessárias para o modelo\n",
    "# cols_to_drop = ['Direcao_Media', 'dia_da_semana', 'mes', 'dia_do_ano']\n",
    "# df_merged = df_merged.drop(columns=cols_to_drop)\n",
    "\n",
    "# --- Salvar o DataFrame final para ML ---\n",
    "output_path = '../data/processed/agg_data_ml.csv'\n",
    "df_merged.to_csv(output_path, index=False)\n",
    "print(f\"\\nDataFrame final para ML salvo em: {output_path}\")\n",
    "print(\"\\n--- Primeiras 5 linhas do DataFrame final ---\")\n",
    "print(df_merged.head())\n",
    "print(\"\\n--- Últimas 5 linhas do DataFrame final ---\")\n",
    "print(df_merged.tail())\n",
    "print(\"\\n--- Colunas Finais ---\")\n",
    "print(df_merged.columns.tolist())"
   ]
  },
  {
   "cell_type": "code",
   "execution_count": null,
   "id": "4e495a21",
   "metadata": {},
   "outputs": [],
   "source": [
    "df_merged_ann = df_merged.copy()\n",
    "\n",
    "df_merged['mes'] = df_merged['Data'].dt.month\n",
    "df_merged['dia_da_semana'] = df_merged['Data'].dt.dayofweek\n",
    "\n",
    "df_merged['vento_sin'] = np.sin(np.radians(df_merged['Direcao_Media']))\n",
    "df_merged['vento_cos'] = np.cos(np.radians(df_merged['Direcao_Media']))\n",
    "\n",
    "df_merged['Intensidade_Media_lag1'] = df_merged['Intensidade_Media'].shift(1)\n",
    "df_merged['Temperatura_Media_lag1'] = df_merged['Temperatura_Media'].shift(1)\n",
    "# df_merged['vento_sin_lag1'] = df_merged['vento_sin'].shift(1)\n",
    "# df_merged['vento_cos_lag1'] = df_merged['vento_cos'].shift(1)\n",
    "\n",
    "df_merged['Eólica_lag1'] = df_merged['Eólica'].shift(1)\n",
    "# df_merged['Eólica_lag2'] = df_merged['Eólica'].shift(2)\n",
    "# df_merged['Eólica_lag3'] = df_merged['Eólica'].shift(3)"
   ]
  },
  {
   "cell_type": "code",
   "execution_count": 17,
   "id": "5467089d",
   "metadata": {},
   "outputs": [],
   "source": [
    "df_merged.dropna(inplace=True)"
   ]
  },
  {
   "cell_type": "code",
   "execution_count": 18,
   "id": "d856a4ca",
   "metadata": {},
   "outputs": [
    {
     "data": {
      "text/plain": [
       "Data                      0\n",
       "Intensidade_Media         0\n",
       "Direcao_Media             0\n",
       "Temperatura_Media         0\n",
       "Eólica                    0\n",
       "mes                       0\n",
       "dia_da_semana             0\n",
       "vento_sin                 0\n",
       "vento_cos                 0\n",
       "Intensidade_Media_lag1    0\n",
       "Temperatura_Media_lag1    0\n",
       "Eólica_lag1               0\n",
       "dtype: int64"
      ]
     },
     "execution_count": 18,
     "metadata": {},
     "output_type": "execute_result"
    }
   ],
   "source": [
    "df_merged.isnull().sum()"
   ]
  },
  {
   "cell_type": "code",
   "execution_count": null,
   "id": "66b4dfa3",
   "metadata": {},
   "outputs": [],
   "source": [
    "# Salvar o dataset combinado em um arquivo CSV\n",
    "# df_merged.to_csv('../data/processed/agg_data_ml.csv', index=False)"
   ]
  },
  {
   "cell_type": "markdown",
   "id": "6b0c17ac",
   "metadata": {},
   "source": [
    "### Dataset para ANN"
   ]
  },
  {
   "cell_type": "code",
   "execution_count": 20,
   "id": "c0bfefc2",
   "metadata": {},
   "outputs": [
    {
     "data": {
      "text/html": [
       "<div>\n",
       "<style scoped>\n",
       "    .dataframe tbody tr th:only-of-type {\n",
       "        vertical-align: middle;\n",
       "    }\n",
       "\n",
       "    .dataframe tbody tr th {\n",
       "        vertical-align: top;\n",
       "    }\n",
       "\n",
       "    .dataframe thead th {\n",
       "        text-align: right;\n",
       "    }\n",
       "</style>\n",
       "<table border=\"1\" class=\"dataframe\">\n",
       "  <thead>\n",
       "    <tr style=\"text-align: right;\">\n",
       "      <th></th>\n",
       "      <th>Data</th>\n",
       "      <th>Intensidade_Media</th>\n",
       "      <th>Direcao_Media</th>\n",
       "      <th>Temperatura_Media</th>\n",
       "      <th>Eólica</th>\n",
       "    </tr>\n",
       "  </thead>\n",
       "  <tbody>\n",
       "    <tr>\n",
       "      <th>0</th>\n",
       "      <td>2013-01-01</td>\n",
       "      <td>1.629318</td>\n",
       "      <td>327.262439</td>\n",
       "      <td>9.488889</td>\n",
       "      <td>89358.2</td>\n",
       "    </tr>\n",
       "    <tr>\n",
       "      <th>1</th>\n",
       "      <td>2013-01-02</td>\n",
       "      <td>1.564218</td>\n",
       "      <td>31.852420</td>\n",
       "      <td>8.683333</td>\n",
       "      <td>118865.5</td>\n",
       "    </tr>\n",
       "    <tr>\n",
       "      <th>2</th>\n",
       "      <td>2013-01-03</td>\n",
       "      <td>2.676138</td>\n",
       "      <td>79.706195</td>\n",
       "      <td>9.277778</td>\n",
       "      <td>232257.7</td>\n",
       "    </tr>\n",
       "    <tr>\n",
       "      <th>3</th>\n",
       "      <td>2013-01-04</td>\n",
       "      <td>1.996991</td>\n",
       "      <td>88.710336</td>\n",
       "      <td>8.761111</td>\n",
       "      <td>149543.7</td>\n",
       "    </tr>\n",
       "    <tr>\n",
       "      <th>4</th>\n",
       "      <td>2013-01-05</td>\n",
       "      <td>1.045090</td>\n",
       "      <td>83.465882</td>\n",
       "      <td>8.600000</td>\n",
       "      <td>23830.8</td>\n",
       "    </tr>\n",
       "    <tr>\n",
       "      <th>...</th>\n",
       "      <td>...</td>\n",
       "      <td>...</td>\n",
       "      <td>...</td>\n",
       "      <td>...</td>\n",
       "      <td>...</td>\n",
       "    </tr>\n",
       "    <tr>\n",
       "      <th>4012</th>\n",
       "      <td>2023-12-27</td>\n",
       "      <td>1.607144</td>\n",
       "      <td>113.966469</td>\n",
       "      <td>18.768339</td>\n",
       "      <td>122691.3</td>\n",
       "    </tr>\n",
       "    <tr>\n",
       "      <th>4013</th>\n",
       "      <td>2023-12-28</td>\n",
       "      <td>1.329026</td>\n",
       "      <td>132.781290</td>\n",
       "      <td>21.062783</td>\n",
       "      <td>164045.6</td>\n",
       "    </tr>\n",
       "    <tr>\n",
       "      <th>4014</th>\n",
       "      <td>2023-12-29</td>\n",
       "      <td>0.992389</td>\n",
       "      <td>105.442474</td>\n",
       "      <td>21.651672</td>\n",
       "      <td>60597.4</td>\n",
       "    </tr>\n",
       "    <tr>\n",
       "      <th>4015</th>\n",
       "      <td>2023-12-30</td>\n",
       "      <td>1.090015</td>\n",
       "      <td>160.954414</td>\n",
       "      <td>21.818339</td>\n",
       "      <td>139741.1</td>\n",
       "    </tr>\n",
       "    <tr>\n",
       "      <th>4016</th>\n",
       "      <td>2023-12-31</td>\n",
       "      <td>1.819481</td>\n",
       "      <td>291.481597</td>\n",
       "      <td>21.712783</td>\n",
       "      <td>156613.8</td>\n",
       "    </tr>\n",
       "  </tbody>\n",
       "</table>\n",
       "<p>4017 rows × 5 columns</p>\n",
       "</div>"
      ],
      "text/plain": [
       "           Data  Intensidade_Media  Direcao_Media  Temperatura_Media    Eólica\n",
       "0    2013-01-01           1.629318     327.262439           9.488889   89358.2\n",
       "1    2013-01-02           1.564218      31.852420           8.683333  118865.5\n",
       "2    2013-01-03           2.676138      79.706195           9.277778  232257.7\n",
       "3    2013-01-04           1.996991      88.710336           8.761111  149543.7\n",
       "4    2013-01-05           1.045090      83.465882           8.600000   23830.8\n",
       "...         ...                ...            ...                ...       ...\n",
       "4012 2023-12-27           1.607144     113.966469          18.768339  122691.3\n",
       "4013 2023-12-28           1.329026     132.781290          21.062783  164045.6\n",
       "4014 2023-12-29           0.992389     105.442474          21.651672   60597.4\n",
       "4015 2023-12-30           1.090015     160.954414          21.818339  139741.1\n",
       "4016 2023-12-31           1.819481     291.481597          21.712783  156613.8\n",
       "\n",
       "[4017 rows x 5 columns]"
      ]
     },
     "execution_count": 20,
     "metadata": {},
     "output_type": "execute_result"
    }
   ],
   "source": [
    "df_merged_ann"
   ]
  }
 ],
 "metadata": {
  "kernelspec": {
   "display_name": "venv",
   "language": "python",
   "name": "python3"
  },
  "language_info": {
   "codemirror_mode": {
    "name": "ipython",
    "version": 3
   },
   "file_extension": ".py",
   "mimetype": "text/x-python",
   "name": "python",
   "nbconvert_exporter": "python",
   "pygments_lexer": "ipython3",
   "version": "3.11.9"
  }
 },
 "nbformat": 4,
 "nbformat_minor": 5
}
