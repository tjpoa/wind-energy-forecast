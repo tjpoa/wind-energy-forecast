{
 "cells": [
  {
   "cell_type": "markdown",
   "id": "a9f5304c",
   "metadata": {},
   "source": [
    "# **Data Preparation**"
   ]
  },
  {
   "cell_type": "markdown",
   "id": "2520626a",
   "metadata": {},
   "source": [
    "## Imports"
   ]
  },
  {
   "cell_type": "code",
   "execution_count": 68,
   "id": "dc28c909",
   "metadata": {},
   "outputs": [],
   "source": [
    "import pandas as pd\n",
    "import numpy as np\n",
    "from pathlib import Path\n",
    "import pandas as pd\n",
    "import os"
   ]
  },
  {
   "cell_type": "markdown",
   "id": "4f60695b",
   "metadata": {},
   "source": [
    "# **Tratar Valores Ausentes**"
   ]
  },
  {
   "cell_type": "markdown",
   "id": "b14f1a79",
   "metadata": {},
   "source": [
    "## Reparticao da Producao de Energia"
   ]
  },
  {
   "cell_type": "code",
   "execution_count": 69,
   "id": "3bee233d",
   "metadata": {},
   "outputs": [
    {
     "name": "stdout",
     "output_type": "stream",
     "text": [
      "\n",
      "Resumo das colunas com valores ausentes:\n",
      "                               Total Ausentes  Percentual (%)\n",
      "Data e Hora                                 0             0.0\n",
      "Hídrica                                     0             0.0\n",
      "Eólica                                      0             0.0\n",
      "Solar                                       0             0.0\n",
      "Biomassa                                    0             0.0\n",
      "Ondas                                       0             0.0\n",
      "Gás Natural - Ciclo Combinado               0             0.0\n",
      "Gás natural - Cogeração                     0             0.0\n",
      "Carvão                                      0             0.0\n",
      "Outra Térmica                               0             0.0\n",
      "Importação                                  0             0.0\n",
      "Exportação                                  0             0.0\n",
      "Bombagem                                    0             0.0\n",
      "Injeção de Baterias                         0             0.0\n",
      "Consumo Baterias                            0             0.0\n",
      "Consumo                                     0             0.0\n"
     ]
    }
   ],
   "source": [
    "df_producao = pd.read_csv(\"../data/raw/ReparticaoProducao.csv\", na_values=-990, sep=';',skiprows=2)\n",
    "\n",
    "# Resumo dos valores ausentes\n",
    "missing_data_producao = pd.DataFrame({\n",
    "    'Total Ausentes': df_producao.isnull().sum(),\n",
    "    'Percentual (%)': (df_producao.isnull().mean() * 100).round(2)\n",
    "})\n",
    "\n",
    "print(\"\\nResumo das colunas com valores ausentes:\")\n",
    "print(missing_data_producao)"
   ]
  },
  {
   "cell_type": "markdown",
   "id": "f9ffbfcb",
   "metadata": {},
   "source": [
    "## Intensidade Media do Vento a 10m"
   ]
  },
  {
   "cell_type": "code",
   "execution_count": 70,
   "id": "29d991f8",
   "metadata": {},
   "outputs": [
    {
     "name": "stdout",
     "output_type": "stream",
     "text": [
      "\n",
      "Resumo das colunas com valores ausentes:\n",
      "         Total Ausentes  Percentual (%)\n",
      "ANO                   0            0.00\n",
      "MES                   0            0.00\n",
      "DIA                   0            0.00\n",
      "1200551            1981           49.32\n",
      "1210622            1525           37.96\n",
      "1200567              14            0.35\n",
      "1200575              57            1.42\n",
      "1200545             283            7.05\n",
      "1210702             663           16.50\n",
      "1200560              83            2.07\n",
      "1210683             190            4.73\n",
      "1200548              57            1.42\n",
      "1200570               1            0.02\n",
      "1210718             191            4.75\n",
      "1210734              52            1.29\n",
      "1200571             226            5.63\n",
      "1200579              32            0.80\n",
      "1210770             192            4.78\n",
      "1200558              28            0.70\n",
      "1200562             471           11.73\n",
      "1200554             352            8.76\n"
     ]
    }
   ],
   "source": [
    "# Importando o arquivo CSV, tratando -990 como ausente\n",
    "df_intesidadeVento10 = pd.read_csv(\"../data/raw/IntensidadeMediaVento10m.csv\", na_values=-990, sep=';', decimal='.')\n",
    "\n",
    "# Resumo dos valores ausentes\n",
    "missing_data = pd.DataFrame({\n",
    "    'Total Ausentes': df_intesidadeVento10.isnull().sum(),\n",
    "    'Percentual (%)': (df_intesidadeVento10.isnull().mean() * 100).round(2)\n",
    "})\n",
    "\n",
    "print(\"\\nResumo das colunas com valores ausentes:\")\n",
    "print(missing_data)\n"
   ]
  },
  {
   "cell_type": "markdown",
   "id": "84028826",
   "metadata": {},
   "source": [
    "## Direcao Media do Vento a 10m"
   ]
  },
  {
   "cell_type": "code",
   "execution_count": 71,
   "id": "89fb7339",
   "metadata": {},
   "outputs": [
    {
     "name": "stdout",
     "output_type": "stream",
     "text": [
      "\n",
      "Resumo das colunas com valores ausentes:\n",
      "         Total Ausentes  Percentual (%)\n",
      "ANO                   0            0.00\n",
      "MES                   0            0.00\n",
      "DIA                   0            0.00\n",
      "1200551            2540           63.23\n",
      "1210622            1090           27.13\n",
      "1200567              36            0.90\n",
      "1200575              47            1.17\n",
      "1200545             617           15.36\n",
      "1210702             665           16.55\n",
      "1200560              85            2.12\n",
      "1210683             191            4.75\n",
      "1200548              63            1.57\n",
      "1200570               1            0.02\n",
      "1210718             207            5.15\n",
      "1210734              62            1.54\n",
      "1200571            1052           26.19\n",
      "1200579              36            0.90\n",
      "1210770             192            4.78\n",
      "1200558              36            0.90\n",
      "1200562             287            7.14\n",
      "1200554            1026           25.54\n"
     ]
    }
   ],
   "source": [
    "df_direcaoVento10 = pd.read_csv(\"../data/raw/DirecaoMediaVento10m.csv\", na_values=-990, sep=';', decimal='.')\n",
    "\n",
    "# Resumo dos valores ausentes\n",
    "missing_data = pd.DataFrame({\n",
    "    'Total Ausentes': df_direcaoVento10.isnull().sum(),\n",
    "    'Percentual (%)': (df_direcaoVento10.isnull().mean() * 100).round(2)\n",
    "})\n",
    "\n",
    "print(\"\\nResumo das colunas com valores ausentes:\")\n",
    "print(missing_data)"
   ]
  },
  {
   "cell_type": "markdown",
   "id": "543235e3",
   "metadata": {},
   "source": [
    "## Temperatura Media"
   ]
  },
  {
   "cell_type": "code",
   "execution_count": 72,
   "id": "6924b4a4",
   "metadata": {},
   "outputs": [
    {
     "name": "stdout",
     "output_type": "stream",
     "text": [
      "\n",
      "Resumo das colunas com valores ausentes:\n",
      "         Total Ausentes  Percentual (%)\n",
      "ANO                   0            0.00\n",
      "MES                   0            0.00\n",
      "DIA                   0            0.00\n",
      "1200551             288            7.17\n",
      "1210622             240            5.97\n",
      "1200567              14            0.35\n",
      "1200575              49            1.22\n",
      "1200545             512           12.75\n",
      "1210702              98            2.44\n",
      "1200560              32            0.80\n",
      "1210683             198            4.93\n",
      "1200548              94            2.34\n",
      "1200570               5            0.12\n",
      "1210718             343            8.54\n",
      "1210734              48            1.19\n",
      "1200571             332            8.26\n",
      "1200579              51            1.27\n",
      "1210770             297            7.39\n",
      "1200558              30            0.75\n",
      "1200562             594           14.79\n",
      "1200554              31            0.77\n"
     ]
    }
   ],
   "source": [
    "df_temperaturamedia = pd.read_csv(\"../data/raw/TemperaturaMedia.csv\", na_values=-990, sep=';', decimal='.')\n",
    "\n",
    "# Resumo dos valores ausentes\n",
    "missing_data = pd.DataFrame({\n",
    "    'Total Ausentes': df_temperaturamedia.isnull().sum(),\n",
    "    'Percentual (%)': (df_temperaturamedia.isnull().mean() * 100).round(2)\n",
    "})\n",
    "\n",
    "print(\"\\nResumo das colunas com valores ausentes:\")\n",
    "print(missing_data)"
   ]
  },
  {
   "cell_type": "markdown",
   "id": "e44ef215",
   "metadata": {},
   "source": [
    "## **Estrategias para lidar com os valores ausentes**"
   ]
  },
  {
   "cell_type": "markdown",
   "id": "ab1c10d4",
   "metadata": {},
   "source": [
    "### Para a Intensidade media do vento optamos por quando a percentagem de valores ausentes for superior a 30% em cada estação, usamos interpolação linear; nas restantes utilizámos a mediana"
   ]
  },
  {
   "cell_type": "code",
   "execution_count": 73,
   "id": "64d26c5a",
   "metadata": {},
   "outputs": [
    {
     "name": "stdout",
     "output_type": "stream",
     "text": [
      "\n",
      "Resumo dos valores ausentes após tratamento:\n",
      "ANO        0\n",
      "MES        0\n",
      "DIA        0\n",
      "1200551    0\n",
      "1210622    0\n",
      "1200567    0\n",
      "1200575    0\n",
      "1200545    0\n",
      "1210702    0\n",
      "1200560    0\n",
      "1210683    0\n",
      "1200548    0\n",
      "1200570    0\n",
      "1210718    0\n",
      "1210734    0\n",
      "1200571    0\n",
      "1200579    0\n",
      "1210770    0\n",
      "1200558    0\n",
      "1200562    0\n",
      "1200554    0\n",
      "dtype: int64\n"
     ]
    }
   ],
   "source": [
    "missing_percent = (df_intesidadeVento10.isnull().mean() * 100)\n",
    "\n",
    "\n",
    "df_intesidadeVento10_treated = df_intesidadeVento10.copy()\n",
    "\n",
    "for col in df_intesidadeVento10.columns:\n",
    "    if missing_percent[col] > 30:\n",
    "        # Se mais de 30% de ausentes → interpolar\n",
    "        df_intesidadeVento10_treated[col] = df_intesidadeVento10_treated[col].interpolate(method='linear', limit_direction='both')\n",
    "        # Preencher o que ainda sobrou (bordas) com a mediana\n",
    "        mediana = df_intesidadeVento10_treated[col].median()\n",
    "        df_intesidadeVento10_treated[col] = df_intesidadeVento10_treated[col].fillna(mediana)\n",
    "    elif missing_percent[col] < 30:\n",
    "        # Se menos de 5% de ausentes → preencher com mediana\n",
    "        mediana = df_intesidadeVento10_treated[col].median()\n",
    "        df_intesidadeVento10_treated[col] = df_intesidadeVento10_treated[col].fillna(mediana)\n",
    "    else:\n",
    "        pass\n",
    "\n",
    "# Resultado final\n",
    "print(\"\\nResumo dos valores ausentes após tratamento:\")\n",
    "print(df_intesidadeVento10_treated.isnull().sum())"
   ]
  },
  {
   "cell_type": "code",
   "execution_count": 74,
   "id": "2039c927",
   "metadata": {},
   "outputs": [],
   "source": [
    "os.makedirs('../data/processed', exist_ok=True)\n",
    "\n",
    "# Salvando o dataset tratado em CSV\n",
    "df_intesidadeVento10_treated.to_csv('../data/processed/IntensidadeMediaVento10m_processed.csv', index=False)\n"
   ]
  },
  {
   "cell_type": "markdown",
   "id": "72d238fc",
   "metadata": {},
   "source": [
    "### Para a temperatura media subtituimos os valores usentes pela media."
   ]
  },
  {
   "cell_type": "code",
   "execution_count": 75,
   "id": "f8584949",
   "metadata": {},
   "outputs": [],
   "source": [
    "df_ttmed = df_temperaturamedia.copy()"
   ]
  },
  {
   "cell_type": "code",
   "execution_count": 76,
   "id": "db1a1e61",
   "metadata": {},
   "outputs": [
    {
     "data": {
      "text/plain": [
       "ANO        0\n",
       "MES        0\n",
       "DIA        0\n",
       "1200551    0\n",
       "1210622    0\n",
       "1200567    0\n",
       "1200575    0\n",
       "1200545    0\n",
       "1210702    0\n",
       "1200560    0\n",
       "1210683    0\n",
       "1200548    0\n",
       "1200570    0\n",
       "1210718    0\n",
       "1210734    0\n",
       "1200571    0\n",
       "1200579    0\n",
       "1210770    0\n",
       "1200558    0\n",
       "1200562    0\n",
       "1200554    0\n",
       "dtype: int64"
      ]
     },
     "execution_count": 76,
     "metadata": {},
     "output_type": "execute_result"
    }
   ],
   "source": [
    "media_global = df_ttmed.select_dtypes(include=['float64', 'int64']).stack().mean()\n",
    "\n",
    "df_ttmed.fillna(media_global, inplace=True)\n",
    "\n",
    "df_ttmed.to_csv('../data/processed/TemperaturaMedia_processed.csv', index=False)\n",
    "\n",
    "df_ttmed.isnull().sum()\n"
   ]
  },
  {
   "cell_type": "markdown",
   "id": "e3b34db4",
   "metadata": {},
   "source": [
    "### Para a direcao media do vento utilizamos a mediana circular\n"
   ]
  },
  {
   "cell_type": "code",
   "execution_count": 77,
   "id": "c803ff79",
   "metadata": {},
   "outputs": [],
   "source": [
    "# Função para calcular a mediana circular (em graus)\n",
    "def circular_median(values):\n",
    "    # Converte os valores para radianos\n",
    "    radians = np.deg2rad(values)\n",
    "\n",
    "    # Calcula o seno e cosseno da média\n",
    "    median_radians = np.arctan2(np.mean(np.sin(radians)), np.mean(np.cos(radians)))\n",
    "    \n",
    "    # Converte de volta para graus\n",
    "    return np.rad2deg(median_radians) % 360"
   ]
  },
  {
   "cell_type": "code",
   "execution_count": 78,
   "id": "8a1df9c1",
   "metadata": {},
   "outputs": [
    {
     "name": "stdout",
     "output_type": "stream",
     "text": [
      "\n",
      "Resumo dos valores ausentes após o tratamento na folha DD_MED:\n",
      "ANO        0\n",
      "MES        0\n",
      "DIA        0\n",
      "1200551    0\n",
      "1210622    0\n",
      "1200567    0\n",
      "1200575    0\n",
      "1200545    0\n",
      "1210702    0\n",
      "1200560    0\n",
      "1210683    0\n",
      "1200548    0\n",
      "1200570    0\n",
      "1210718    0\n",
      "1210734    0\n",
      "1200571    0\n",
      "1200579    0\n",
      "1210770    0\n",
      "1200558    0\n",
      "1200562    0\n",
      "1200554    0\n",
      "dtype: int64\n"
     ]
    }
   ],
   "source": [
    "df_ddmed = df_direcaoVento10.copy()\n",
    "\n",
    "mediana_circular = circular_median(df_ddmed.select_dtypes(include=['float64', 'int64']).stack())\n",
    "\n",
    "df_ddmed.fillna(mediana_circular, inplace=True)\n",
    "\n",
    "print(\"\\nResumo dos valores ausentes após o tratamento na folha DD_MED:\")\n",
    "print(df_ddmed.isnull().sum())\n",
    "\n",
    "df_ddmed.to_csv('../data/processed/DirecaoMediaVento10m_processed.csv', index=False)\n"
   ]
  },
  {
   "cell_type": "markdown",
   "id": "baabab47",
   "metadata": {},
   "source": [
    "## Agregação dos Dados"
   ]
  },
  {
   "cell_type": "markdown",
   "id": "1f83babf",
   "metadata": {},
   "source": [
    "### Começar por extrair só o que queremos do Dataset da Repartição da Produção"
   ]
  },
  {
   "cell_type": "code",
   "execution_count": 79,
   "id": "4fc36f47",
   "metadata": {},
   "outputs": [],
   "source": [
    "df_producao_processed = df_producao.copy()\n",
    "\n",
    "df_producao_processed.columns = df_producao_processed.columns.str.strip()\n",
    "df_producao_processed = df_producao_processed[['Data e Hora', 'Eólica']]\n",
    "\n",
    "# Ensure 'Data e Hora' is in datetime format\n",
    "df_producao_processed['Data e Hora'] = pd.to_datetime(df_producao_processed['Data e Hora'])\n",
    "\n",
    "df_producao_processed.set_index('Data e Hora', inplace=True)\n",
    "df_diario = df_producao_processed.resample('D').sum().reset_index()\n",
    "df_diario.rename(columns={'Data e Hora': 'Data'}, inplace=True)"
   ]
  },
  {
   "cell_type": "markdown",
   "id": "005ef6ba",
   "metadata": {},
   "source": [
    "### Para os datasets do vento temos que mudar o formato da data"
   ]
  },
  {
   "cell_type": "code",
   "execution_count": 81,
   "id": "df4d331c",
   "metadata": {},
   "outputs": [],
   "source": [
    "df_ddmed_processed = df_ddmed.copy()\n",
    "df_ddmed_processed = df_ddmed_processed.rename(columns={'ANO': 'year', 'MES': 'month', 'DIA': 'day'})\n",
    "df_intesidadeVento10_treated = df_intesidadeVento10_treated.rename(columns={'ANO': 'year', 'MES': 'month', 'DIA': 'day'})\n",
    "df_ddmed_processed['Data'] = pd.to_datetime(df_ddmed_processed[['year', 'month', 'day']])\n",
    "df_intesidadeVento10_treated['Data'] = pd.to_datetime(df_intesidadeVento10_treated[['year', 'month', 'day']])\n",
    "\n",
    "# Estações são colunas com nomes numéricos\n",
    "estacoes = [col for col in df_ddmed_processed.columns if col.isdigit()]\n",
    "\n",
    "dd_rad = np.deg2rad(df_ddmed_processed[estacoes])\n",
    "x = df_intesidadeVento10_treated[estacoes] * np.cos(dd_rad)\n",
    "y = df_intesidadeVento10_treated[estacoes] * np.sin(dd_rad)\n",
    "\n",
    "x_medio = x.mean(axis=1)\n",
    "y_medio = y.mean(axis=1)\n",
    "\n",
    "intensidade_media = np.sqrt(x_medio**2 + y_medio**2)\n",
    "direcao_media = (np.rad2deg(np.arctan2(y_medio, x_medio))) % 360\n",
    "\n",
    "df_nacional = pd.DataFrame({\n",
    "    'Data': df_ddmed_processed['Data'],\n",
    "    'Intensidade_Media': intensidade_media,\n",
    "    'Direcao_Media': direcao_media\n",
    "})"
   ]
  },
  {
   "cell_type": "markdown",
   "id": "9f83569e",
   "metadata": {},
   "source": [
    "### para a temperatura também"
   ]
  },
  {
   "cell_type": "code",
   "execution_count": 83,
   "id": "7db408bb",
   "metadata": {},
   "outputs": [],
   "source": [
    "df_ttmed_processed = df_ttmed.copy()\n",
    "\n",
    "# Ensure the renaming persists by using inplace=True\n",
    "df_ttmed_processed.rename(columns={'ANO': 'year', 'MES': 'month', 'DIA': 'day'}, inplace=True)\n",
    "df_ttmed_processed['Data'] = pd.to_datetime(df_ttmed_processed[['year', 'month', 'day']])\n",
    "\n",
    "estacoes = [col for col in df_ttmed_processed.columns if col.isdigit()]\n",
    "temp_media = df_ttmed_processed[estacoes].mean(axis=1)\n",
    "\n",
    "df_temp = pd.DataFrame({\n",
    "    'Data': df_ttmed_processed['Data'],\n",
    "    'Temperatura_Media': temp_media\n",
    "})"
   ]
  },
  {
   "cell_type": "code",
   "execution_count": 85,
   "id": "4e495a21",
   "metadata": {},
   "outputs": [],
   "source": [
    "# Juntar os datasets usando a coluna 'Data' como chave\n",
    "df_merged = df_nacional.merge(df_temp, on='Data', how='inner')\n",
    "df_merged = df_merged.merge(df_diario, on='Data', how='inner')\n",
    "\n",
    "# Salvar o dataset combinado em um arquivo CSV\n",
    "df_merged.to_csv('../data/processed/dados_combinados.csv', index=False)"
   ]
  }
 ],
 "metadata": {
  "kernelspec": {
   "display_name": "venv",
   "language": "python",
   "name": "python3"
  },
  "language_info": {
   "codemirror_mode": {
    "name": "ipython",
    "version": 3
   },
   "file_extension": ".py",
   "mimetype": "text/x-python",
   "name": "python",
   "nbconvert_exporter": "python",
   "pygments_lexer": "ipython3",
   "version": "3.12.10"
  }
 },
 "nbformat": 4,
 "nbformat_minor": 5
}
